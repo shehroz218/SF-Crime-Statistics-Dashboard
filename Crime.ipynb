{
 "cells": [
  {
   "cell_type": "code",
   "execution_count": 1,
   "metadata": {},
   "outputs": [],
   "source": [
    "import pandas as pd\n"
   ]
  },
  {
   "cell_type": "code",
   "execution_count": 10,
   "metadata": {},
   "outputs": [],
   "source": [
    "def data_load(link):\n",
    "    '''\n",
    "    This function loads the data, preprocesses it and stores valuable information inside usefull variables\n",
    "\n",
    "    '''\n",
    "    \n",
    "    data_og= pd.read_csv('D:\\Codes\\SF Crime\\Police_Department_Incident_Reports__2018_to_Present.csv')\n",
    "    data= data_og[['Incident Datetime', 'Incident Date', 'Incident Time','Row ID', 'Incident Year','Report Datetime',\n",
    "        'Incident ID','Report Type Code','Report Type Description', 'Filed Online', 'Incident Code',\n",
    "        'Incident Category', 'Incident Subcategory', 'Incident Description','Intersection',\n",
    "        'Police District','Analysis Neighborhood','Latitude', 'Longitude',]]\n",
    "    data=data.dropna()\n",
    "    incidents=data['Incident Category'].unique()\n",
    "    return data_og,data,incidents\n",
    "    "
   ]
  },
  {
   "cell_type": "code",
   "execution_count": 11,
   "metadata": {},
   "outputs": [],
   "source": [
    "#https://data.sfgov.org/Public-Safety/Police-Department-Incident-Reports-2018-to-Present/wg3w-h783\n",
    "link='D:\\Codes\\SF Crime\\Police_Department_Incident_Reports__2018_to_Present.csv'\n",
    "data_og,data,incidents=data_load(link)\n"
   ]
  },
  {
   "cell_type": "code",
   "execution_count": null,
   "metadata": {},
   "outputs": [],
   "source": []
  }
 ],
 "metadata": {
  "interpreter": {
   "hash": "34e38b871a78ce03784bee49b7081b844d23d64c1ab896e81272e7d6c67059ca"
  },
  "kernelspec": {
   "display_name": "Python 3.9.7 64-bit ('env': conda)",
   "language": "python",
   "name": "python3"
  },
  "language_info": {
   "codemirror_mode": {
    "name": "ipython",
    "version": 3
   },
   "file_extension": ".py",
   "mimetype": "text/x-python",
   "name": "python",
   "nbconvert_exporter": "python",
   "pygments_lexer": "ipython3",
   "version": "3.9.7"
  },
  "orig_nbformat": 4
 },
 "nbformat": 4,
 "nbformat_minor": 2
}
